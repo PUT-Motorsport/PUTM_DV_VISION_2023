{
 "cells": [
  {
   "cell_type": "code",
   "execution_count": 1,
   "id": "0901f475-772b-4ec9-951c-0e27c494880a",
   "metadata": {},
   "outputs": [
    {
     "name": "stderr",
     "output_type": "stream",
     "text": [
      "2023-03-27 18:12:44.720792: I tensorflow/core/platform/cpu_feature_guard.cc:193] This TensorFlow binary is optimized with oneAPI Deep Neural Network Library (oneDNN) to use the following CPU instructions in performance-critical operations:  AVX2 FMA\n",
      "To enable them in other operations, rebuild TensorFlow with the appropriate compiler flags.\n",
      "2023-03-27 18:12:45.780750: W tensorflow/compiler/xla/stream_executor/platform/default/dso_loader.cc:64] Could not load dynamic library 'libnvinfer.so.7'; dlerror: libnvinfer.so.7: cannot open shared object file: No such file or directory; LD_LIBRARY_PATH: /opt/ros/noetic/lib:/home/patryk/miniconda3/envs/stereo-vision/lib/:/home/patryk/miniconda3/envs/stereo-vision/lib/:/home/patryk/miniconda3/envs/stereo-vision/lib/\n",
      "2023-03-27 18:12:45.780801: W tensorflow/compiler/xla/stream_executor/platform/default/dso_loader.cc:64] Could not load dynamic library 'libnvinfer_plugin.so.7'; dlerror: libnvinfer_plugin.so.7: cannot open shared object file: No such file or directory; LD_LIBRARY_PATH: /opt/ros/noetic/lib:/home/patryk/miniconda3/envs/stereo-vision/lib/:/home/patryk/miniconda3/envs/stereo-vision/lib/:/home/patryk/miniconda3/envs/stereo-vision/lib/\n",
      "2023-03-27 18:12:45.780806: W tensorflow/compiler/tf2tensorrt/utils/py_utils.cc:38] TF-TRT Warning: Cannot dlopen some TensorRT libraries. If you would like to use Nvidia GPU with TensorRT, please make sure the missing libraries mentioned above are installed properly.\n",
      "2023-03-27 18:12:46.331316: I tensorflow/compiler/xla/stream_executor/cuda/cuda_gpu_executor.cc:981] successful NUMA node read from SysFS had negative value (-1), but there must be at least one NUMA node, so returning NUMA node zero\n",
      "2023-03-27 18:12:46.352234: I tensorflow/compiler/xla/stream_executor/cuda/cuda_gpu_executor.cc:981] successful NUMA node read from SysFS had negative value (-1), but there must be at least one NUMA node, so returning NUMA node zero\n",
      "2023-03-27 18:12:46.352677: I tensorflow/compiler/xla/stream_executor/cuda/cuda_gpu_executor.cc:981] successful NUMA node read from SysFS had negative value (-1), but there must be at least one NUMA node, so returning NUMA node zero\n",
      "2023-03-27 18:12:46.353516: I tensorflow/core/platform/cpu_feature_guard.cc:193] This TensorFlow binary is optimized with oneAPI Deep Neural Network Library (oneDNN) to use the following CPU instructions in performance-critical operations:  AVX2 FMA\n",
      "To enable them in other operations, rebuild TensorFlow with the appropriate compiler flags.\n",
      "2023-03-27 18:12:46.354216: I tensorflow/compiler/xla/stream_executor/cuda/cuda_gpu_executor.cc:981] successful NUMA node read from SysFS had negative value (-1), but there must be at least one NUMA node, so returning NUMA node zero\n",
      "2023-03-27 18:12:46.354650: I tensorflow/compiler/xla/stream_executor/cuda/cuda_gpu_executor.cc:981] successful NUMA node read from SysFS had negative value (-1), but there must be at least one NUMA node, so returning NUMA node zero\n",
      "2023-03-27 18:12:46.355057: I tensorflow/compiler/xla/stream_executor/cuda/cuda_gpu_executor.cc:981] successful NUMA node read from SysFS had negative value (-1), but there must be at least one NUMA node, so returning NUMA node zero\n",
      "2023-03-27 18:12:46.897986: I tensorflow/compiler/xla/stream_executor/cuda/cuda_gpu_executor.cc:981] successful NUMA node read from SysFS had negative value (-1), but there must be at least one NUMA node, so returning NUMA node zero\n",
      "2023-03-27 18:12:46.898510: I tensorflow/compiler/xla/stream_executor/cuda/cuda_gpu_executor.cc:981] successful NUMA node read from SysFS had negative value (-1), but there must be at least one NUMA node, so returning NUMA node zero\n",
      "2023-03-27 18:12:46.898757: I tensorflow/compiler/xla/stream_executor/cuda/cuda_gpu_executor.cc:981] successful NUMA node read from SysFS had negative value (-1), but there must be at least one NUMA node, so returning NUMA node zero\n",
      "2023-03-27 18:12:46.899160: I tensorflow/core/common_runtime/gpu/gpu_device.cc:1613] Created device /job:localhost/replica:0/task:0/device:GPU:0 with 5174 MB memory:  -> device: 0, name: GeForce RTX 3070, pci bus id: 0000:0a:00.0, compute capability: 8.6\n"
     ]
    }
   ],
   "source": [
    "import tensorflow as tf2\n",
    "\n",
    "net = tf2.keras.applications.mobilenet_v2.MobileNetV2(\n",
    "    input_shape=(64, 64, 3),\n",
    "    alpha=1.0,\n",
    "    include_top=True,\n",
    "    weights=None,\n",
    "    input_tensor=None,\n",
    "    pooling=None,\n",
    "    classes=1000,\n",
    "    classifier_activation='softmax',\n",
    ")"
   ]
  },
  {
   "cell_type": "code",
   "execution_count": 2,
   "id": "bad838f0-19ec-45e8-b0db-d90833615a4d",
   "metadata": {},
   "outputs": [
    {
     "name": "stdout",
     "output_type": "stream",
     "text": [
      "<keras.engine.functional.Functional object at 0x7f05ac5ee6d0>\n"
     ]
    }
   ],
   "source": [
    "print(net)"
   ]
  },
  {
   "cell_type": "code",
   "execution_count": 2,
   "id": "71aa3cc7",
   "metadata": {},
   "outputs": [
    {
     "name": "stdout",
     "output_type": "stream",
     "text": [
      "/home/patryk/putm_workspace/src/putm_vision\n"
     ]
    }
   ],
   "source": [
    "from pathlib import Path\n",
    "import os\n",
    "node_root =  Path(os.getcwd()).parent.absolute()\n",
    "print(node_root)"
   ]
  },
  {
   "cell_type": "code",
   "execution_count": 4,
   "id": "a31782a0-1327-439d-8c74-95c8ed6b8300",
   "metadata": {},
   "outputs": [
    {
     "name": "stdout",
     "output_type": "stream",
     "text": [
      "Root is: /home/patryk/putm_workspace/src/putm_vision/notebooks\n",
      "Train data is: /home/patryk/putm_workspace/src/putm_vision/notebooks/train\n",
      "ecurieaix_00384.png\n",
      "ecurieaix_00384.png\n",
      "ecurieaix_00384.png\n",
      "ecurieaix_00384.png\n",
      "ecurieaix_00384.png\n",
      "ecurieaix_00384.png\n",
      "ecurieaix_00384.png\n",
      "ecurieaix_00384.png\n",
      "ecurieaix_00384.png\n",
      "ecurieaix_00384.png\n",
      "ecurieaix_00384.png\n",
      "ecurieaix_00384.png\n",
      "ecurieaix_00384.png\n",
      "ecurieaix_00482.png\n",
      "ecurieaix_00482.png\n",
      "ecurieaix_00482.png\n",
      "ecurieaix_00482.png\n",
      "ecurieaix_00482.png\n",
      "ecurieaix_00482.png\n",
      "ecurieaix_00482.png\n",
      "ecurieaix_00482.png\n",
      "ecurieaix_00482.png\n",
      "ecurieaix_00091.png\n",
      "ecurieaix_00091.png\n",
      "ecurieaix_00496.png\n",
      "ecurieaix_00496.png\n",
      "ecurieaix_00496.png\n",
      "ecurieaix_00487.png\n",
      "ecurieaix_00021.png\n",
      "ecurieaix_00021.png\n",
      "ecurieaix_00021.png\n",
      "ecurieaix_00021.png\n",
      "ecurieaix_00021.png\n",
      "ecurieaix_00021.png\n",
      "ecurieaix_00021.png\n",
      "ecurieaix_00021.png\n",
      "ecurieaix_00451.png\n",
      "ecurieaix_00474.png\n",
      "ecurieaix_00474.png\n",
      "ecurieaix_00474.png\n",
      "ecurieaix_00474.png\n",
      "ecurieaix_00474.png\n",
      "ecurieaix_00474.png\n",
      "ecurieaix_00474.png\n",
      "ecurieaix_00474.png\n",
      "ecurieaix_00474.png\n",
      "ecurieaix_00474.png\n",
      "ecurieaix_00474.png\n",
      "ecurieaix_00474.png\n",
      "ecurieaix_00474.png\n",
      "ecurieaix_00474.png\n",
      "ecurieaix_00474.png\n",
      "ecurieaix_00474.png\n",
      "ecurieaix_00474.png\n",
      "ecurieaix_00474.png\n",
      "ecurieaix_00474.png\n",
      "ecurieaix_00474.png\n",
      "ecurieaix_00474.png\n",
      "ecurieaix_00474.png\n",
      "ecurieaix_00474.png\n",
      "ecurieaix_00474.png\n",
      "ecurieaix_00474.png\n",
      "ecurieaix_00474.png\n",
      "ecurieaix_00474.png\n",
      "ecurieaix_00474.png\n",
      "ecurieaix_00474.png\n",
      "ecurieaix_00474.png\n",
      "ecurieaix_00500.png\n",
      "ecurieaix_00500.png\n",
      "ecurieaix_00500.png\n",
      "ecurieaix_00500.png\n",
      "ecurieaix_00500.png\n",
      "ecurieaix_00500.png\n",
      "ecurieaix_00500.png\n",
      "ecurieaix_00500.png\n",
      "ecurieaix_00500.png\n",
      "ecurieaix_00500.png\n",
      "ecurieaix_00500.png\n",
      "ecurieaix_00500.png\n",
      "ecurieaix_00500.png\n",
      "ecurieaix_00500.png\n",
      "ecurieaix_00500.png\n",
      "ecurieaix_00500.png\n",
      "ecurieaix_00009.png\n",
      "ecurieaix_00009.png\n",
      "ecurieaix_00019.png\n",
      "ecurieaix_00019.png\n",
      "ecurieaix_00019.png\n",
      "ecurieaix_00019.png\n",
      "ecurieaix_00019.png\n",
      "ecurieaix_00019.png\n",
      "ecurieaix_00019.png\n",
      "ecurieaix_00019.png\n",
      "ecurieaix_00019.png\n",
      "ecurieaix_00019.png\n",
      "ecurieaix_00019.png\n",
      "ecurieaix_00019.png\n",
      "ecurieaix_00019.png\n",
      "ecurieaix_00019.png\n",
      "ecurieaix_00019.png\n",
      "ecurieaix_00019.png\n",
      "ecurieaix_00019.png\n",
      "ecurieaix_00019.png\n",
      "ecurieaix_00019.png\n",
      "ecurieaix_00019.png\n",
      "ecurieaix_00019.png\n",
      "ecurieaix_00019.png\n",
      "ecurieaix_00019.png\n",
      "ecurieaix_00019.png\n",
      "ecurieaix_00019.png\n",
      "ecurieaix_00019.png\n",
      "ecurieaix_00099.png\n",
      "ecurieaix_00099.png\n",
      "ecurieaix_00099.png\n",
      "ecurieaix_00099.png\n",
      "ecurieaix_00099.png\n",
      "ecurieaix_00099.png\n",
      "ecurieaix_00099.png\n",
      "ecurieaix_00099.png\n",
      "ecurieaix_00099.png\n",
      "ecurieaix_00099.png\n",
      "ecurieaix_00099.png\n",
      "ecurieaix_00099.png\n",
      "ecurieaix_00099.png\n",
      "ecurieaix_00099.png\n",
      "ecurieaix_00099.png\n",
      "ecurieaix_00099.png\n",
      "ecurieaix_00099.png\n",
      "ecurieaix_00099.png\n",
      "ecurieaix_00099.png\n",
      "ecurieaix_00099.png\n",
      "ecurieaix_00099.png\n",
      "ecurieaix_00099.png\n",
      "ecurieaix_00273.png\n",
      "ecurieaix_00424.png\n",
      "ecurieaix_00424.png\n",
      "ecurieaix_00508.png\n",
      "ecurieaix_00225.png\n",
      "ecurieaix_00225.png\n",
      "ecurieaix_00225.png\n",
      "ecurieaix_00225.png\n",
      "ecurieaix_00225.png\n",
      "ecurieaix_00225.png\n",
      "ecurieaix_00225.png\n",
      "ecurieaix_00225.png\n",
      "ecurieaix_00225.png\n",
      "ecurieaix_00225.png\n",
      "ecurieaix_00225.png\n",
      "ecurieaix_00143.png\n",
      "ecurieaix_00218.png\n",
      "ecurieaix_00218.png\n",
      "ecurieaix_00218.png\n",
      "ecurieaix_00218.png\n",
      "ecurieaix_00218.png\n",
      "ecurieaix_00218.png\n",
      "ecurieaix_00218.png\n",
      "ecurieaix_00218.png\n",
      "ecurieaix_00218.png\n",
      "ecurieaix_00218.png\n",
      "ecurieaix_00232.png\n",
      "ecurieaix_00232.png\n",
      "ecurieaix_00232.png\n",
      "ecurieaix_00232.png\n",
      "ecurieaix_00232.png\n",
      "ecurieaix_00232.png\n",
      "ecurieaix_00232.png\n",
      "ecurieaix_00514.png\n",
      "ecurieaix_00514.png\n",
      "ecurieaix_00514.png\n",
      "ecurieaix_00514.png\n",
      "ecurieaix_00514.png\n",
      "ecurieaix_00514.png\n",
      "ecurieaix_00514.png\n",
      "ecurieaix_00514.png\n",
      "ecurieaix_00514.png\n",
      "ecurieaix_00216.png\n",
      "ecurieaix_00216.png\n",
      "ecurieaix_00216.png\n",
      "ecurieaix_00353.png\n",
      "ecurieaix_00353.png\n",
      "ecurieaix_00353.png\n",
      "ecurieaix_00353.png\n",
      "ecurieaix_00353.png\n",
      "ecurieaix_00353.png\n",
      "ecurieaix_00353.png\n",
      "ecurieaix_00353.png\n",
      "ecurieaix_00353.png\n",
      "ecurieaix_00004.png\n",
      "ecurieaix_00370.png\n",
      "ecurieaix_00370.png\n",
      "ecurieaix_00370.png\n",
      "ecurieaix_00370.png\n",
      "ecurieaix_00370.png\n",
      "ecurieaix_00370.png\n",
      "ecurieaix_00370.png\n",
      "ecurieaix_00370.png\n",
      "ecurieaix_00370.png\n",
      "ecurieaix_00370.png\n",
      "ecurieaix_00370.png\n",
      "ecurieaix_00370.png\n",
      "ecurieaix_00370.png\n",
      "ecurieaix_00370.png\n",
      "ecurieaix_00370.png\n",
      "ecurieaix_00370.png\n",
      "ecurieaix_00370.png\n",
      "ecurieaix_00370.png\n",
      "ecurieaix_00370.png\n",
      "ecurieaix_00370.png\n",
      "ecurieaix_00370.png\n",
      "ecurieaix_00370.png\n",
      "ecurieaix_00301.png\n",
      "ecurieaix_00301.png\n",
      "ecurieaix_00301.png\n",
      "ecurieaix_00301.png\n",
      "ecurieaix_00301.png\n",
      "ecurieaix_00301.png\n",
      "ecurieaix_00301.png\n",
      "ecurieaix_00111.png\n",
      "ecurieaix_00111.png\n",
      "ecurieaix_00111.png\n",
      "ecurieaix_00219.png\n",
      "ecurieaix_00219.png\n",
      "ecurieaix_00219.png\n",
      "ecurieaix_00219.png\n",
      "ecurieaix_00219.png\n",
      "ecurieaix_00219.png\n",
      "ecurieaix_00219.png\n",
      "ecurieaix_00219.png\n",
      "ecurieaix_00219.png\n",
      "ecurieaix_00219.png\n",
      "ecurieaix_00219.png\n",
      "ecurieaix_00219.png\n",
      "ecurieaix_00219.png\n",
      "ecurieaix_00219.png\n",
      "ecurieaix_00455.png\n",
      "ecurieaix_00140.png\n",
      "ecurieaix_00140.png\n",
      "ecurieaix_00140.png\n",
      "ecurieaix_00140.png\n",
      "ecurieaix_00140.png\n",
      "ecurieaix_00140.png\n",
      "ecurieaix_00140.png\n",
      "ecurieaix_00140.png\n",
      "ecurieaix_00140.png\n",
      "ecurieaix_00140.png\n",
      "ecurieaix_00140.png\n",
      "ecurieaix_00140.png\n",
      "ecurieaix_00140.png\n",
      "ecurieaix_00363.png\n",
      "ecurieaix_00363.png\n",
      "ecurieaix_00363.png\n",
      "ecurieaix_00422.png\n",
      "ecurieaix_00422.png\n",
      "ecurieaix_00422.png\n",
      "ecurieaix_00422.png\n",
      "ecurieaix_00422.png\n",
      "ecurieaix_00422.png\n",
      "ecurieaix_00422.png\n",
      "ecurieaix_00422.png\n",
      "ecurieaix_00422.png\n",
      "ecurieaix_00422.png\n",
      "ecurieaix_00422.png\n",
      "ecurieaix_00422.png\n",
      "ecurieaix_00510.png\n",
      "ecurieaix_00510.png\n",
      "ecurieaix_00510.png\n",
      "ecurieaix_00510.png\n",
      "ecurieaix_00510.png\n",
      "ecurieaix_00507.png\n",
      "ecurieaix_00507.png\n",
      "ecurieaix_00507.png\n",
      "ecurieaix_00507.png\n",
      "ecurieaix_00507.png\n",
      "ecurieaix_00507.png\n",
      "ecurieaix_00226.png\n",
      "ecurieaix_00226.png\n",
      "ecurieaix_00226.png\n",
      "ecurieaix_00226.png\n",
      "ecurieaix_00226.png\n",
      "ecurieaix_00226.png\n",
      "ecurieaix_00373.png\n",
      "ecurieaix_00373.png\n",
      "ecurieaix_00373.png\n",
      "ecurieaix_00373.png\n",
      "ecurieaix_00373.png\n",
      "ecurieaix_00373.png\n",
      "ecurieaix_00373.png\n",
      "ecurieaix_00373.png\n",
      "ecurieaix_00373.png\n",
      "ecurieaix_00373.png\n",
      "ecurieaix_00373.png\n",
      "ecurieaix_00366.png\n",
      "ecurieaix_00366.png\n",
      "ecurieaix_00366.png\n",
      "ecurieaix_00366.png\n",
      "ecurieaix_00366.png\n",
      "ecurieaix_00366.png\n",
      "ecurieaix_00366.png\n",
      "ecurieaix_00366.png\n",
      "ecurieaix_00366.png\n",
      "ecurieaix_00366.png\n",
      "ecurieaix_00366.png\n",
      "ecurieaix_00506.png\n",
      "ecurieaix_00506.png\n",
      "ecurieaix_00506.png\n",
      "ecurieaix_00506.png\n",
      "ecurieaix_00506.png\n",
      "ecurieaix_00506.png\n",
      "ecurieaix_00506.png\n",
      "ecurieaix_00506.png\n",
      "ecurieaix_00506.png\n",
      "ecurieaix_00506.png\n",
      "ecurieaix_00506.png\n",
      "ecurieaix_00506.png\n",
      "ecurieaix_00506.png\n",
      "ecurieaix_00506.png\n",
      "ecurieaix_00506.png\n",
      "ecurieaix_00506.png\n",
      "ecurieaix_00506.png\n",
      "ecurieaix_00506.png\n",
      "ecurieaix_00506.png\n",
      "ecurieaix_00506.png\n",
      "ecurieaix_00506.png\n",
      "ecurieaix_00506.png\n",
      "ecurieaix_00506.png\n",
      "ecurieaix_00287.png\n",
      "ecurieaix_00287.png\n",
      "ecurieaix_00287.png\n",
      "ecurieaix_00233.png\n",
      "ecurieaix_00093.png\n",
      "ecurieaix_00313.png\n"
     ]
    }
   ],
   "source": [
    "import os\n",
    "import json\n",
    "import numpy as np\n",
    "from PIL import Image\n",
    "\n",
    "root = os.getcwd()\n",
    "print(f\"Root is: {root}\")\n",
    "\n",
    "train_data_path = root + \"/train\"\n",
    "print(f\"Train data is: {train_data_path}\")\n",
    "\n",
    "width_sum = 0\n",
    "height_sum = 0\n",
    "\n",
    "photos = 0\n",
    "\n",
    "data_path = train_data_path + \"/data/\"\n",
    "\n",
    "for team in os.scandir(train_data_path):\n",
    "    for subdir in os.scandir(team):\n",
    "        if subdir.name == \"ann\" and subdir.is_dir:\n",
    "            for file in os.scandir(subdir):\n",
    "                \n",
    "                f = open(file.path)\n",
    "                j = json.loads(f.read())\n",
    "                \n",
    "                for obj in j[\"objects\"]:\n",
    "                    folder_path = data_path + obj[\"classTitle\"] + \"/\"\n",
    "                    if not os.path.exists(folder_path):\n",
    "                        os.mkdir(folder_path)\n",
    "\n",
    "                    img_path = team.path + \"/img/\" + file.name.replace(\".json\", \"\")\n",
    "                    if not os.path.exists(img_path):\n",
    "                        continue\n",
    "\n",
    "                    save_path = data_path + obj[\"classTitle\"] + \"/\" + str(obj['id']) + file.name.replace(\".json\", \"\")\n",
    "                    if os.path.exists(save_path):\n",
    "                        if save_path.__contains__(\"png\"):\n",
    "                            print(file.name.replace(\".json\", \"\"))\n",
    "                            os.remove(save_path)\n",
    "                            save_path = save_path.replace(\"png\", \"jpg\")\n",
    "                        else:\n",
    "                            continue\n",
    "\n",
    "                    img = Image.open(img_path)\n",
    "                    upper_left = obj['points']['exterior'][0]\n",
    "                    lower_right = obj['points']['exterior'][1]\n",
    "\n",
    "                    width = lower_right[0] - upper_left[0]\n",
    "                    height = lower_right[1] - upper_left[1]\n",
    "\n",
    "                    width_sum += width\n",
    "                    height_sum += height\n",
    "\n",
    "                    photos += 1\n",
    "\n",
    "                    cutout = img.crop((upper_left[0], upper_left[1], lower_right[0], lower_right[1]))\n",
    "                    cutout.save(save_path)\n",
    "                    \n",
    "                f.close()\n"
   ]
  },
  {
   "cell_type": "code",
   "execution_count": 77,
   "id": "2082ef28-1254-48a1-a476-84b3fdc91ad3",
   "metadata": {},
   "outputs": [
    {
     "name": "stdout",
     "output_type": "stream",
     "text": [
      "TensorFlow version: 2.11.1\n"
     ]
    }
   ],
   "source": [
    "import tensorflow as tf2\n",
    "print(\"TensorFlow version:\", tf2.__version__)"
   ]
  },
  {
   "cell_type": "code",
   "execution_count": 78,
   "id": "f491a43a-49da-4cd6-9ace-7ce5eb0ada87",
   "metadata": {},
   "outputs": [
    {
     "name": "stdout",
     "output_type": "stream",
     "text": [
      "273771\n",
      "356457\n",
      "8822\n",
      "31.032759011562003\n",
      "40.40546361369304\n"
     ]
    }
   ],
   "source": [
    "print(width_sum)\n",
    "print(height_sum)\n",
    "print(photos)\n",
    "print(width_sum / photos)\n",
    "print(height_sum / photos)"
   ]
  },
  {
   "cell_type": "code",
   "execution_count": 79,
   "id": "c3feeee7",
   "metadata": {},
   "outputs": [
    {
     "name": "stdout",
     "output_type": "stream",
     "text": [
      "/home/patryk/putm/StereoVision/train/data/\n"
     ]
    }
   ],
   "source": [
    "print(data_path)"
   ]
  },
  {
   "cell_type": "code",
   "execution_count": 80,
   "id": "a47aab04",
   "metadata": {},
   "outputs": [],
   "source": [
    "batch_size = 32\n",
    "img_height = 64\n",
    "img_width = 64"
   ]
  },
  {
   "cell_type": "code",
   "execution_count": 81,
   "id": "48d37751",
   "metadata": {},
   "outputs": [
    {
     "name": "stdout",
     "output_type": "stream",
     "text": [
      "Found 22629 files belonging to 5 classes.\n",
      "Using 18104 files for training.\n"
     ]
    }
   ],
   "source": [
    "train_ds = tf2.keras.utils.image_dataset_from_directory(\n",
    "  data_path,\n",
    "  validation_split=0.2,\n",
    "  subset=\"training\",\n",
    "  seed=123,\n",
    "  image_size=(img_height, img_width),\n",
    "  batch_size=batch_size)"
   ]
  },
  {
   "cell_type": "code",
   "execution_count": 82,
   "id": "2b1bb2ad",
   "metadata": {},
   "outputs": [
    {
     "name": "stdout",
     "output_type": "stream",
     "text": [
      "Found 22629 files belonging to 5 classes.\n",
      "Using 4525 files for validation.\n"
     ]
    }
   ],
   "source": [
    "val_ds = tf2.keras.utils.image_dataset_from_directory(\n",
    "  data_path,\n",
    "  validation_split=0.2,\n",
    "  subset=\"validation\",\n",
    "  seed=123,\n",
    "  image_size=(img_height, img_width),\n",
    "  batch_size=batch_size)"
   ]
  },
  {
   "cell_type": "code",
   "execution_count": 83,
   "id": "5ebe5d47",
   "metadata": {},
   "outputs": [
    {
     "name": "stdout",
     "output_type": "stream",
     "text": [
      "<BatchDataset element_spec=(TensorSpec(shape=(None, 64, 64, 3), dtype=tf.float32, name=None), TensorSpec(shape=(None,), dtype=tf.int32, name=None))>\n"
     ]
    }
   ],
   "source": [
    "class_names = train_ds.class_names\n",
    "print(train_ds)"
   ]
  },
  {
   "cell_type": "code",
   "execution_count": 101,
   "id": "d246995a",
   "metadata": {},
   "outputs": [
    {
     "data": {
      "image/png": "[encoded data removed]",
      "text/plain": [
       "<Figure size 1000x1000 with 9 Axes>"
      ]
     },
     "metadata": {},
     "output_type": "display_data"
    }
   ],
   "source": [
    "import matplotlib.pyplot as plt\n",
    "\n",
    "plt.figure(figsize=(10, 10))\n",
    "for images, labels in train_ds.take(1):\n",
    "  for i in range(9):\n",
    "    ax = plt.subplot(3, 3, i + 1)\n",
    "    plt.imshow(images[i].numpy().astype(\"uint8\"))\n",
    "    plt.title(class_names[labels[i]])\n",
    "    plt.axis(\"off\")"
   ]
  },
  {
   "cell_type": "code",
   "execution_count": 87,
   "id": "6f5a6ba2",
   "metadata": {},
   "outputs": [],
   "source": [
    "AUTOTUNE = tf2.data.AUTOTUNE\n",
    "\n",
    "train_ds = train_ds.cache().prefetch(buffer_size=AUTOTUNE)\n",
    "val_ds = val_ds.cache().prefetch(buffer_size=AUTOTUNE)"
   ]
  },
  {
   "cell_type": "code",
   "execution_count": 88,
   "id": "f8cc68b1",
   "metadata": {},
   "outputs": [],
   "source": [
    "num_classes = 5\n",
    "\n",
    "model = tf2.keras.Sequential([\n",
    "    tf2.keras.layers.Rescaling(1./255),\n",
    "    net,\n",
    "    tf2.keras.layers.Dense(num_classes)\n",
    "])"
   ]
  },
  {
   "cell_type": "code",
   "execution_count": 89,
   "id": "8933b94f",
   "metadata": {},
   "outputs": [],
   "source": [
    "model.compile(\n",
    "    optimizer='adam',\n",
    "    loss=tf2.keras.losses.SparseCategoricalCrossentropy(from_logits=True),\n",
    "    metrics=['accuracy']\n",
    ")"
   ]
  },
  {
   "cell_type": "code",
   "execution_count": 90,
   "id": "bf6a6bc0",
   "metadata": {},
   "outputs": [
    {
     "name": "stdout",
     "output_type": "stream",
     "text": [
      "Num GPUs Available:  0\n"
     ]
    }
   ],
   "source": [
    "import tensorflow as tf\n",
    "print(\"Num GPUs Available: \", len(tf.config.list_physical_devices('GPU')))"
   ]
  },
  {
   "cell_type": "code",
   "execution_count": 133,
   "id": "1de08189",
   "metadata": {},
   "outputs": [
    {
     "name": "stdout",
     "output_type": "stream",
     "text": [
      "Epoch 1/5\n",
      "566/566 [==============================] - 42s 73ms/step - loss: 0.4479 - accuracy: 0.9240 - val_loss: 0.3356 - val_accuracy: 0.9496\n",
      "Epoch 2/5\n",
      "566/566 [==============================] - 41s 73ms/step - loss: 0.3080 - accuracy: 0.9433 - val_loss: 0.2796 - val_accuracy: 0.9501\n",
      "Epoch 3/5\n",
      "566/566 [==============================] - 41s 72ms/step - loss: 0.2605 - accuracy: 0.9452 - val_loss: 0.3638 - val_accuracy: 0.9129\n",
      "Epoch 4/5\n",
      "566/566 [==============================] - 41s 73ms/step - loss: 0.2170 - accuracy: 0.9515 - val_loss: 0.3067 - val_accuracy: 0.9355\n",
      "Epoch 5/5\n",
      "566/566 [==============================] - 41s 72ms/step - loss: 0.1866 - accuracy: 0.9564 - val_loss: 0.1566 - val_accuracy: 0.9635\n"
     ]
    },
    {
     "data": {
      "text/plain": [
       "<keras.callbacks.History at 0x7fe2f063da00>"
      ]
     },
     "execution_count": 133,
     "metadata": {},
     "output_type": "execute_result"
    }
   ],
   "source": [
    "model.fit(\n",
    "  train_ds,\n",
    "  validation_data=val_ds,\n",
    "  epochs=5\n",
    ")"
   ]
  },
  {
   "cell_type": "code",
   "execution_count": 134,
   "id": "f7f28bed",
   "metadata": {},
   "outputs": [
    {
     "name": "stdout",
     "output_type": "stream",
     "text": [
      "1/1 [==============================] - 0s 22ms/step\n"
     ]
    }
   ],
   "source": [
    "out = model.predict(val_ds.take(1))"
   ]
  },
  {
   "cell_type": "code",
   "execution_count": 135,
   "id": "fd7c8b06",
   "metadata": {},
   "outputs": [
    {
     "name": "stdout",
     "output_type": "stream",
     "text": [
      "142/142 [==============================] - 2s 14ms/step - loss: 0.1566 - accuracy: 0.9635\n"
     ]
    },
    {
     "data": {
      "text/plain": [
       "[0.15660004317760468, 0.9635359048843384]"
      ]
     },
     "execution_count": 135,
     "metadata": {},
     "output_type": "execute_result"
    }
   ],
   "source": [
    "model.evaluate(val_ds)"
   ]
  },
  {
   "cell_type": "code",
   "execution_count": 136,
   "id": "2d3f9e2f",
   "metadata": {},
   "outputs": [],
   "source": [
    "probability_model = tf2.keras.Sequential([model, \n",
    "                                         tf2.keras.layers.Softmax()])"
   ]
  },
  {
   "cell_type": "code",
   "execution_count": 137,
   "id": "ea9607c3",
   "metadata": {},
   "outputs": [
    {
     "name": "stdout",
     "output_type": "stream",
     "text": [
      "142/142 [==============================] - 3s 14ms/step\n"
     ]
    }
   ],
   "source": [
    "predictions = probability_model.predict(val_ds)"
   ]
  },
  {
   "cell_type": "code",
   "execution_count": 138,
   "id": "7ef54517",
   "metadata": {},
   "outputs": [],
   "source": [
    "np.argmax(predictions[0])\n",
    "y = np.concatenate([y for x, y in val_ds], axis=0)"
   ]
  },
  {
   "cell_type": "code",
   "execution_count": 139,
   "id": "042da674",
   "metadata": {},
   "outputs": [
    {
     "name": "stdout",
     "output_type": "stream",
     "text": [
      "Correct: 4360 out of 4525 giving 0.96353591160221%\n"
     ]
    }
   ],
   "source": [
    "correct = 0\n",
    "for i in range(len(predictions)):\n",
    "    if np.argmax(predictions[i]) == y[i]:\n",
    "        correct += 1\n",
    "print(f\"Correct: {correct} out of {len(predictions)} giving {correct/len(predictions)}%\")"
   ]
  },
  {
   "cell_type": "code",
   "execution_count": 140,
   "id": "7e54902a",
   "metadata": {},
   "outputs": [
    {
     "name": "stdout",
     "output_type": "stream",
     "text": [
      "(64, 64, 3)\n",
      "1/1 [==============================] - 1s 503ms/step\n",
      "2\n",
      "(64, 64, 3)\n",
      "1/1 [==============================] - 0s 12ms/step\n",
      "0\n",
      "(64, 64, 3)\n",
      "1/1 [==============================] - 0s 12ms/step\n",
      "0\n",
      "(64, 64, 3)\n",
      "1/1 [==============================] - 0s 12ms/step\n",
      "2\n",
      "(64, 64, 3)\n",
      "1/1 [==============================] - 0s 12ms/step\n",
      "0\n",
      "(64, 64, 3)\n",
      "1/1 [==============================] - 0s 13ms/step\n",
      "0\n",
      "(64, 64, 3)\n",
      "1/1 [==============================] - 0s 13ms/step\n",
      "4\n",
      "(64, 64, 3)\n",
      "1/1 [==============================] - 0s 12ms/step\n",
      "2\n",
      "(64, 64, 3)\n",
      "1/1 [==============================] - 0s 12ms/step\n",
      "4\n",
      "(64, 64, 3)\n",
      "1/1 [==============================] - 0s 12ms/step\n",
      "4\n",
      "(64, 64, 3)\n",
      "1/1 [==============================] - 0s 13ms/step\n",
      "4\n",
      "(64, 64, 3)\n",
      "1/1 [==============================] - 0s 13ms/step\n",
      "2\n",
      "(64, 64, 3)\n",
      "1/1 [==============================] - 0s 13ms/step\n",
      "0\n",
      "(64, 64, 3)\n",
      "1/1 [==============================] - 0s 13ms/step\n",
      "2\n",
      "(64, 64, 3)\n",
      "1/1 [==============================] - 0s 13ms/step\n",
      "0\n",
      "(64, 64, 3)\n",
      "1/1 [==============================] - 0s 12ms/step\n",
      "0\n",
      "(64, 64, 3)\n",
      "1/1 [==============================] - 0s 12ms/step\n",
      "4\n",
      "(64, 64, 3)\n",
      "1/1 [==============================] - 0s 13ms/step\n",
      "0\n",
      "(64, 64, 3)\n",
      "1/1 [==============================] - 0s 12ms/step\n",
      "2\n",
      "(64, 64, 3)\n",
      "1/1 [==============================] - 0s 13ms/step\n",
      "0\n",
      "(64, 64, 3)\n",
      "1/1 [==============================] - 0s 12ms/step\n",
      "0\n",
      "(64, 64, 3)\n",
      "1/1 [==============================] - 0s 12ms/step\n",
      "0\n",
      "(64, 64, 3)\n",
      "1/1 [==============================] - 0s 13ms/step\n",
      "4\n",
      "(64, 64, 3)\n",
      "1/1 [==============================] - 0s 12ms/step\n",
      "4\n",
      "(64, 64, 3)\n",
      "1/1 [==============================] - 0s 13ms/step\n",
      "4\n",
      "(64, 64, 3)\n",
      "1/1 [==============================] - 0s 12ms/step\n",
      "0\n",
      "(64, 64, 3)\n",
      "1/1 [==============================] - 0s 13ms/step\n",
      "0\n",
      "(64, 64, 3)\n",
      "1/1 [==============================] - 0s 13ms/step\n",
      "0\n",
      "(64, 64, 3)\n",
      "1/1 [==============================] - 0s 13ms/step\n",
      "0\n",
      "(64, 64, 3)\n",
      "1/1 [==============================] - 0s 12ms/step\n",
      "4\n",
      "(64, 64, 3)\n",
      "1/1 [==============================] - 0s 13ms/step\n",
      "2\n",
      "(64, 64, 3)\n",
      "1/1 [==============================] - 0s 13ms/step\n",
      "0\n"
     ]
    }
   ],
   "source": [
    "for images, labels in val_ds.take(1):\n",
    "    for image in images:\n",
    "        print(image.shape)\n",
    "        print(np.argmax(probability_model.predict(np.expand_dims(image, 0))))"
   ]
  },
  {
   "cell_type": "code",
   "execution_count": null,
   "id": "4b0b3d0d",
   "metadata": {},
   "outputs": [],
   "source": [
    "model.save_weights(node_root + \"/model\")"
   ]
  }
 ],
 "metadata": {
  "kernelspec": {
   "display_name": "stereo-vision",
   "language": "python",
   "name": "python3"
  },
  "language_info": {
   "codemirror_mode": {
    "name": "ipython",
    "version": 3
   },
   "file_extension": ".py",
   "mimetype": "text/x-python",
   "name": "python",
   "nbconvert_exporter": "python",
   "pygments_lexer": "ipython3",
   "version": "3.9.16 | packaged by conda-forge | (main, Feb  1 2023, 21:39:03) \n[GCC 11.3.0]"
  },
  "vscode": {
   "interpreter": {
    "hash": "b223b3cc38d4ef420aae1044a34962bc09bbbc99227b5117760d62a69d8e7718"
   }
  }
 },
 "nbformat": 4,
 "nbformat_minor": 5
}
